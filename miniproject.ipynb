{
  "nbformat": 4,
  "nbformat_minor": 0,
  "metadata": {
    "colab": {
      "name": "miniproject.ipynb",
      "version": "0.3.2",
      "provenance": []
    },
    "kernelspec": {
      "name": "python3",
      "display_name": "Python 3"
    }
  },
  "cells": [
    {
      "metadata": {
        "id": "_UhyZVMA0NuF",
        "colab_type": "text"
      },
      "cell_type": "markdown",
      "source": [
        "1. Mad Libs Generator\n",
        "The Goal: Inspired by Summer Son’s Mad Libs project with Javascript. The program\n",
        "will first prompt the user for a series of inputs a la Mad Libs. For example, a singular\n",
        "noun, an adjective, etc. Then, once all the information has been inputted, the\n",
        "program will take that data and place them into a premade story template. You’ll\n",
        "need prompts for user input, and to then print out the full story at the end with the\n",
        "input included.\n",
        "Concepts to keep in mind:\n",
        "\n",
        "● Strings\n",
        "\n",
        "● Variables\n",
        "\n",
        "● Concatenation\n",
        "\n",
        "● Print\n",
        "\n",
        "A pretty fun beginning project that gets you thinking about how to manipulate user\n",
        "inputted data. Compared to the prior projects, this project focuses far more on strings\n",
        "and concatenating. Have some fun coming up with some wacky stories for this!"
      ]
    },
    {
      "metadata": {
        "id": "W3F69fA8fxdK",
        "colab_type": "code",
        "colab": {}
      },
      "cell_type": "code",
      "source": [
        "print('THE MAD LIBS GAME\\n')\n",
        "noun1=input('name of a person:')\n",
        "adj1=input('describe the above person: ')\n",
        "noun2=input('a place you love:')\n",
        "adj2=input('describe the place:')\n",
        "noun3=input('your favourite food:')\n",
        "adj3=input('describe the food:')\n",
        "\n",
        "print('Now,lets see the story u made!!\\n')\n",
        "print('The weather today is so '+adj1)\n",
        "print('Roses are '+ noun2+','+ noun3+' are blue,it feels so good')\n",
        "print('I get into a '+ adj2+' house')\n",
        "print('see whos here '+ noun1+' and looks so '+ adj3)"
      ],
      "execution_count": 0,
      "outputs": []
    },
    {
      "metadata": {
        "id": "XJBGWlAu0cNv",
        "colab_type": "text"
      },
      "cell_type": "markdown",
      "source": [
        "2. TextBased Adventure Game\n",
        "The Goal: Remember Adventure ? Well, we’re going to build a more basic version of\n",
        "that. A complete text game, the program will let users move through rooms based on\n",
        "user input and get descriptions of each room. To create this, you’ll need to establish\n",
        "the directions in which the user can move, a way to track how far the user has\n",
        "moved (and therefore which room he/she is in), and to print out a description. You’ll\n",
        "also need to set limits for how far the user can move. In other words, create “walls”\n",
        "around the rooms that tell the user, “You can’t move further in this direction.”\n",
        "Concepts to keep in mind:\n",
        "\n",
        "● Strings\n",
        "\n",
        "● Variables\n",
        "\n",
        "● Input/Output\n",
        "\n",
        "● If/Else Statements\n",
        "\n",
        "● Print\n",
        "\n",
        "● List\n",
        "\n",
        "● Integers"
      ]
    },
    {
      "metadata": {
        "id": "wGZt_tsJmQ55",
        "colab_type": "code",
        "colab": {}
      },
      "cell_type": "code",
      "source": [
        "print('WELCOME TO THE ADVENTURE GAME\\n')\n",
        "r=int(input('enter the room number from 1 to 3 you want to enter:') )       \n",
        "if r == 1:\n",
        "  print('living room:consists of a sofa and a table')\n",
        "elif r==2:\n",
        "  print('dining room:consists of a table and 6 chairs ')\n",
        "elif r==3:\n",
        "  print('bedroom:consists a bed and a pillow')\n",
        "else:\n",
        "  print('you have not entered any room')\n",
        "d=input('do you want to move in further:')\n",
        "if d in ['yes','y','YES','Y']:\n",
        "  print('you have entered the room')\n",
        "  if r==1 :\n",
        "    v=input('do you want to sit on the sofa?:')\n",
        "    if v in ['yes','y','YES','Y']:\n",
        "      print('you are sitting on the sofa')\n",
        "    else:\n",
        "      print('you cant move further')\n",
        "  elif r==2 :\n",
        "    q=input('do you want to sit on the chair?:')\n",
        "    if q in ['yes','y','YES','Y']:\n",
        "      print('you are sitting on the chair')\n",
        "    else:\n",
        "      print('you cant move further')\n",
        "    \n",
        "  elif r==3:\n",
        "    t=input('do you want to lie on the bed?:')\n",
        "    if t in ['yes','y','YES','Y']:\n",
        "      print('you are lying on the bed')\n",
        "    else:\n",
        "      print('you cant move further')\n",
        "else:\n",
        "  print('you have not entered the room')\n",
        "        \n",
        "    "
      ],
      "execution_count": 0,
      "outputs": []
    }
  ]
}
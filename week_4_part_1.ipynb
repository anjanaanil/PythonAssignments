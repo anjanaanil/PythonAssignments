{
  "nbformat": 4,
  "nbformat_minor": 0,
  "metadata": {
    "colab": {
      "name": "week_4_part_1",
      "version": "0.3.2",
      "provenance": [],
      "collapsed_sections": []
    },
    "kernelspec": {
      "name": "python3",
      "display_name": "Python 3"
    }
  },
  "cells": [
    {
      "metadata": {
        "id": "jOwb88IbFLwO",
        "colab_type": "text"
      },
      "cell_type": "markdown",
      "source": [
        "\n",
        "1.Create a student class and initialize it with name and date of birth.\n",
        "Make methods to:\n",
        "SetMarks: Input Marks of 3 subjects.\n",
        "Display -It should display all information (name,roll no, marks(3 subjects))\n",
        "After creating many instances, create methods to:\n",
        "\n",
        "a)\tprint the students name in alphabetical order.\n",
        "\n",
        "b)\tAnother method to list names of students born on a specific month.\n",
        "\n",
        "c)\tFind the name of the student with the highest marks in  each subject.\n"
      ]
    },
    {
      "metadata": {
        "id": "CIvw_3VLaDLQ",
        "colab_type": "code",
        "colab": {}
      },
      "cell_type": "code",
      "source": [
        "#1\n",
        "class student():\n",
        "  def __init__(self,name,*args):\n",
        "    self.name=name\n",
        "    self.date_of_birth=args\n",
        "  def setmarks(self,roll_no,subject_1,subject_2,subject_3):\n",
        "    self.roll_no=roll_no\n",
        "    self.maths=subject_1\n",
        "    self.science=subject_2\n",
        "    self.social=subject_3  \n",
        "  def display(self):\n",
        "    print('Name:',self.name)\n",
        "    print('roll no:',self.roll_no)\n",
        "    print( 'marks:',self.maths, self.science, self.social)\n",
        "  def order(t1,t2,t3):\n",
        "    a=[]\n",
        "    for names in (s,v,d):\n",
        "      b = names.name\n",
        "      a.append(b)\n",
        "    a.sort()\n",
        "    print(a)\n",
        "  def month(month):\n",
        "    for months in (s,v,d):\n",
        "      if month == months.date_of_birth[1]:\n",
        "        print (months.name)\n",
        "  def highest():\n",
        "    names=[]\n",
        "    mark_maths=[]\n",
        "    mark_science=[]\n",
        "    mark_social=[]\n",
        "    for high in (s,v,d):\n",
        "      b=high.name\n",
        "      names.append(b)\n",
        "      c=high.maths\n",
        "      f=high.science\n",
        "      g=high.social\n",
        "      mark_maths.append(c)\n",
        "      mark_science.append(f)\n",
        "      mark_social.append(g)\n",
        "    for x in (mark_maths,mark_science,mark_social):  \n",
        "      best_score=max(x)\n",
        "      idx = x.index(best_score)\n",
        "      name = names[idx]\n",
        "      print(name)"
      ],
      "execution_count": 0,
      "outputs": []
    },
    {
      "metadata": {
        "id": "CRB2PeFQaHuY",
        "colab_type": "code",
        "colab": {}
      },
      "cell_type": "code",
      "source": [
        "s=student(\"manu\",22,9,2006)\n",
        "d=student(\"archana\",2,4,2006)\n",
        "v=student(\"bincy\",3,6,2006)"
      ],
      "execution_count": 0,
      "outputs": []
    },
    {
      "metadata": {
        "id": "vGUWp6P3aOkr",
        "colab_type": "code",
        "colab": {}
      },
      "cell_type": "code",
      "source": [
        "s.setmarks(9,93,45,67)\n",
        "d.setmarks(13,77,95,56)\n",
        "v.setmarks(19,78,49,98)"
      ],
      "execution_count": 0,
      "outputs": []
    },
    {
      "metadata": {
        "id": "mNWdPgVdaQuQ",
        "colab_type": "code",
        "outputId": "e286d9ce-d0a0-4735-be91-029448ef1a6a",
        "colab": {
          "base_uri": "https://localhost:8080/",
          "height": 70
        }
      },
      "cell_type": "code",
      "source": [
        "s.display()\n"
      ],
      "execution_count": 0,
      "outputs": [
        {
          "output_type": "stream",
          "text": [
            "Name: manu\n",
            "roll no: 9\n",
            "marks: 93 45 67\n"
          ],
          "name": "stdout"
        }
      ]
    },
    {
      "metadata": {
        "id": "hsEG8h-O7iYf",
        "colab_type": "code",
        "outputId": "6b0ab9ce-a6b3-4cb0-8691-32335455aaa4",
        "colab": {
          "base_uri": "https://localhost:8080/",
          "height": 34
        }
      },
      "cell_type": "code",
      "source": [
        "f=student.order(s,v,d)"
      ],
      "execution_count": 0,
      "outputs": [
        {
          "output_type": "stream",
          "text": [
            "['archana', 'bincy', 'manu']\n"
          ],
          "name": "stdout"
        }
      ]
    },
    {
      "metadata": {
        "id": "8KFyb7sk-DDS",
        "colab_type": "code",
        "outputId": "0e560b7d-4908-42de-886b-42b2b25f6de4",
        "colab": {
          "base_uri": "https://localhost:8080/",
          "height": 34
        }
      },
      "cell_type": "code",
      "source": [
        "h=student.month(6)"
      ],
      "execution_count": 0,
      "outputs": [
        {
          "output_type": "stream",
          "text": [
            "bincy\n"
          ],
          "name": "stdout"
        }
      ]
    },
    {
      "metadata": {
        "id": "1xNLXupzAI3T",
        "colab_type": "code",
        "outputId": "9d4eacb1-27df-4dcb-870c-7328ddfdf2ab",
        "colab": {
          "base_uri": "https://localhost:8080/",
          "height": 70
        }
      },
      "cell_type": "code",
      "source": [
        "k=student.highest()"
      ],
      "execution_count": 0,
      "outputs": [
        {
          "output_type": "stream",
          "text": [
            "manu\n",
            "archana\n",
            "bincy\n"
          ],
          "name": "stdout"
        }
      ]
    },
    {
      "metadata": {
        "id": "AA1VAe_jFfCS",
        "colab_type": "text"
      },
      "cell_type": "markdown",
      "source": [
        "2.For a given array of n integers, the function returns the index of the element with the minimum value in the array. \n",
        "\n",
        "a.\tIf there is more than one element with the minimum value, the returned index should be the smallest one.\n",
        "\n",
        "b.\tIf an empty array is passed to the function, it should raise an Exception.\n",
        "Refer: Exceptions in Python\n"
      ]
    },
    {
      "metadata": {
        "id": "Zf29ZrerhP1f",
        "colab_type": "code",
        "colab": {}
      },
      "cell_type": "code",
      "source": [
        "#2\n",
        "\n",
        "def minimum_index(seq):\n",
        "    if len(seq) == 0:\n",
        "        raise ValueError(\"Cannot get the minimum value index\")\n",
        "    min_idx = 0\n",
        "    for i in range(1, len(seq)):\n",
        "        if a[i] < a[min_idx]:\n",
        "            min_idx = i\n",
        "    return min_idx"
      ],
      "execution_count": 0,
      "outputs": []
    },
    {
      "metadata": {
        "id": "x7W3P5oXF0lb",
        "colab_type": "text"
      },
      "cell_type": "markdown",
      "source": [
        "3.Create a Temperature class. Make methods :\n",
        "\n",
        "a)\tConvertFahrenheit - It will take celsius and will print into Fahrenheit.\n",
        "\n",
        "b)\tConvertCelsius- It will take Fahrenheit and will convert into Celsius.\n",
        "\n",
        "c)\tHandle exceptions(if input should be celsius and if user inputs Fahrenheit raise error)\n",
        "\n"
      ]
    },
    {
      "metadata": {
        "id": "KYWyec1nahEo",
        "colab_type": "code",
        "colab": {}
      },
      "cell_type": "code",
      "source": [
        "#3\n",
        "class temperature():\n",
        "  def __init__(self):\n",
        "    pass\n",
        "  def convert_to_F(self,celsius):\n",
        "    if celsius >= 101:\n",
        "      raise ValueError('input must be in celsius')\n",
        "    fahrenheit=((celsius)*1.8)+32\n",
        "    return fahrenheit\n",
        "  \n",
        "  def convert_to_C(self,fahrenheit):\n",
        "    if fahrenheit >= 213:\n",
        "      raise ValueError('input must be in fahrenheit')\n",
        "    celsius=((fahrenheit)-32)/1.8\n",
        "    return celsius\n",
        "\n",
        "\n",
        "  "
      ],
      "execution_count": 0,
      "outputs": []
    },
    {
      "metadata": {
        "id": "CPOsuMRAbHrK",
        "colab_type": "code",
        "colab": {}
      },
      "cell_type": "code",
      "source": [
        "kochi=temperature()"
      ],
      "execution_count": 0,
      "outputs": []
    },
    {
      "metadata": {
        "id": "S5GSjQeobLRl",
        "colab_type": "code",
        "outputId": "c3b46bd7-423c-45b9-d59c-40f3406d2d86",
        "colab": {
          "base_uri": "https://localhost:8080/",
          "height": 34
        }
      },
      "cell_type": "code",
      "source": [
        "kochi.convert_to_F(98)"
      ],
      "execution_count": 0,
      "outputs": [
        {
          "output_type": "execute_result",
          "data": {
            "text/plain": [
              "208.4"
            ]
          },
          "metadata": {
            "tags": []
          },
          "execution_count": 97
        }
      ]
    },
    {
      "metadata": {
        "id": "KyPkH_61bacD",
        "colab_type": "code",
        "outputId": "5183f82b-09f2-4218-f488-fc30487e1195",
        "colab": {
          "base_uri": "https://localhost:8080/",
          "height": 34
        }
      },
      "cell_type": "code",
      "source": [
        "kochi.convert_to_C(100)"
      ],
      "execution_count": 0,
      "outputs": [
        {
          "output_type": "execute_result",
          "data": {
            "text/plain": [
              "37.77777777777778"
            ]
          },
          "metadata": {
            "tags": []
          },
          "execution_count": 98
        }
      ]
    },
    {
      "metadata": {
        "id": "CtEQ6HwHGDub",
        "colab_type": "text"
      },
      "cell_type": "markdown",
      "source": [
        "4.\tCreate a Time class and initialize it with hours and minutes.\n",
        "\n",
        "a)\tMake a method displayTime which should print the time.\n",
        "\n",
        "b) Make a method addTime which should take two time object and add them. E.g.- (2 hour and 50 min)+(1 hr and 20 min) is (4 hr and 10 min)\n",
        "\n",
        "c)Method DisplayMinute which should display the total minutes in the Time. E.g.- (1 hr 2 min) should display 62 minute.\n",
        "\n"
      ]
    },
    {
      "metadata": {
        "id": "j1hBxfuHbvgU",
        "colab_type": "code",
        "colab": {}
      },
      "cell_type": "code",
      "source": [
        "#4\n",
        "class time():\n",
        "  def __init__(self,hours,mins):\n",
        "    self.hours=hours\n",
        "    self.mins=mins\n",
        "    \n",
        "  def displayTime(self):\n",
        "    print (f\"The Time is {self.hours}hr and {self.mins}min\")\n",
        "  def addTime(time1,time2):\n",
        "    time3 = time(0,0)\n",
        "    if time1.mins+time2.mins > 60:\n",
        "      time3.hours = int((time1.mins+time2.mins)/60) \n",
        "    time3.hours = time3.hours+time1.hours+time2.hours\n",
        "    time3.mins =(time1.mins+time2.mins)-((int((time1.mins+time2.mins)/60))*60) \n",
        "    return time3\n",
        "  def DisplayMinute(self):\n",
        "    total_minutes= (self.hours*60)+self.mins\n",
        "    print (total_minutes,'mins')\n",
        "\n",
        "\n",
        "  "
      ],
      "execution_count": 0,
      "outputs": []
    },
    {
      "metadata": {
        "id": "CUiXe63Lflk1",
        "colab_type": "code",
        "colab": {}
      },
      "cell_type": "code",
      "source": [
        "\n",
        "e=time(2,50)\n",
        "f=time(1,20)"
      ],
      "execution_count": 0,
      "outputs": []
    },
    {
      "metadata": {
        "id": "kV9DOCCAhGac",
        "colab_type": "code",
        "outputId": "87e66621-8c70-4646-f632-49cbff643464",
        "colab": {
          "base_uri": "https://localhost:8080/",
          "height": 34
        }
      },
      "cell_type": "code",
      "source": [
        "e.displayTime()"
      ],
      "execution_count": 0,
      "outputs": [
        {
          "output_type": "stream",
          "text": [
            "The Time is 2hr and 50min\n"
          ],
          "name": "stdout"
        }
      ]
    },
    {
      "metadata": {
        "id": "9zEMirJaliaY",
        "colab_type": "code",
        "colab": {}
      },
      "cell_type": "code",
      "source": [
        "g=time.addTime(e,f)"
      ],
      "execution_count": 0,
      "outputs": []
    },
    {
      "metadata": {
        "id": "6X5rn8Gem4Zu",
        "colab_type": "code",
        "outputId": "b96ed825-6cc9-4b50-adf3-990e03441633",
        "colab": {
          "base_uri": "https://localhost:8080/",
          "height": 34
        }
      },
      "cell_type": "code",
      "source": [
        "g.displayTime()"
      ],
      "execution_count": 0,
      "outputs": [
        {
          "output_type": "stream",
          "text": [
            "The Time is 4hr and 10min\n"
          ],
          "name": "stdout"
        }
      ]
    },
    {
      "metadata": {
        "id": "JQI5KIkrnHCT",
        "colab_type": "code",
        "outputId": "2ebf5afe-62f9-415a-bf82-278510c8b1be",
        "colab": {
          "base_uri": "https://localhost:8080/",
          "height": 34
        }
      },
      "cell_type": "code",
      "source": [
        "e.DisplayMinute()"
      ],
      "execution_count": 0,
      "outputs": [
        {
          "output_type": "stream",
          "text": [
            "170 mins\n"
          ],
          "name": "stdout"
        }
      ]
    },
    {
      "metadata": {
        "id": "aPx1HgUWGLyx",
        "colab_type": "text"
      },
      "cell_type": "markdown",
      "source": [
        "5.Create a class Shape(Parent). From Parent inherit Quadrilateral, Triangle, Rectangle, Circle.\n",
        "Write methods like:\n",
        "\n",
        "A)\tGetDimension for each child classes.\n",
        "\n",
        "B)Methods to find Area and Perimeter of each shape(for quadrilateral, area is not necessary.)\n",
        "\n",
        "C)In quadrilateral, write another method to check if it is a rectangle.\n",
        "\n",
        "D) Use inheritence and polymorphism wherever you can.\n"
      ]
    },
    {
      "metadata": {
        "id": "8FfaA8uJ0yss",
        "colab_type": "code",
        "colab": {}
      },
      "cell_type": "code",
      "source": [
        "#5\n",
        "class shape():\n",
        "  True\n",
        "class Quadilateral(shape):\n",
        "  def __init__(self):\n",
        "    shape.__init__(self)\n",
        "  def GetDimension(self,a,b,c,d):\n",
        "    self.a=a\n",
        "    self.b=b\n",
        "    self.c=c\n",
        "    self.d=d\n",
        "  def perimeter(self):\n",
        "    perimeter=self.a+self.b+self.c+self.d\n",
        "    return perimeter\n",
        "  def is_rect(self):\n",
        "      if (self.a==self.c or self.a==self.d) and (self.b==self.c or self.b==self.d):\n",
        "        print ('it is a rectangle')\n",
        "      else:\n",
        "        print('it is not a rectangle')\n",
        "class Triangle(shape):\n",
        "  def GetDimension(self,base,ht,side):\n",
        "    self.base=base\n",
        "    self.ht=ht\n",
        "    self.side=side\n",
        "  def perimeter(self):\n",
        "    perimeter=self.base+self.ht+self.side\n",
        "    return perimeter\n",
        "  def area(self):\n",
        "    area=(self.base*self.ht)/2\n",
        "    return area\n",
        "class rectangle(shape):\n",
        "  def GetDimension(self,a,b):\n",
        "    self.a=a\n",
        "    self.b=b\n",
        "  def perimeter(self):\n",
        "    perimeter= 2*(self.a+self.b)\n",
        "    return perimeter\n",
        "  def area(self):\n",
        "    area = self.a*self.b\n",
        "    return area\n",
        "class circle(shape):\n",
        "  def GetDimension(self,r):\n",
        "    self.r=r\n",
        "  def perimeter(self):\n",
        "    perimeter = 2*3.14*self.r\n",
        "    return perimeter\n",
        "  def area(self):\n",
        "    area=3.14 *(self.r)*(self.r)\n",
        "    return area\n",
        "  \n",
        "  \n",
        "  "
      ],
      "execution_count": 0,
      "outputs": []
    },
    {
      "metadata": {
        "id": "ko6D8tCxGgcz",
        "colab_type": "text"
      },
      "cell_type": "markdown",
      "source": [
        "6.Define a class “Stock” with the following description:\n",
        "\n",
        "Private Members:\n",
        "*   ICode of type integer(Item code)\n",
        "*   Item of type string(Item Name)\n",
        "\n",
        "*  Price of type float(price of each item)\n",
        "* \tQty of type integer(Qty in stock)\n",
        "\n",
        "*   Discount of type float(Discount percentage on the item)\n",
        "*  A member function FindDisc() to calculate discount as per the following rule\n",
        "   If Qty <= 50  - Discount is 0\n",
        "   If 50<Qty<=100 - Discount is 5\n",
        "   If Qty>100 - Discount is 10\n",
        "\n",
        "Public Members:\n",
        "*   A function Buy() to allow user to enter values for ICode, item,Qty and call function FindDisc() to calculate the discount\n",
        "*  A function ShowAll() to allow user to view the content of all the data members"
      ]
    },
    {
      "metadata": {
        "id": "gBCOwdCqXhvv",
        "colab_type": "code",
        "colab": {}
      },
      "cell_type": "code",
      "source": [
        "#6\n",
        "class stock():\n",
        " \n",
        "  def __FindDisc(self):\n",
        " \n",
        "    discount=0\n",
        "    if self.__qty <=50:\n",
        "       discount= 0\n",
        "    if self.__qty <= 100:\n",
        "      discount =5\n",
        "    if self.__qty > 100:\n",
        "      discount = 10\n",
        "    print('discount:',discount)    \n",
        "  def buy(self):\n",
        "    self.__icode=int(input(\"enter item code:\"))\n",
        "    self.__name=str(input(\"enter name of product:\"))\n",
        "    self.__price=float(input(\"enter price:\"))\n",
        "    self.__qty=int(input(\"enter quantity:\"))\n",
        "    stock.__FindDisc(self)\n",
        "  def showall(self):\n",
        "    print(f'item code{self.__icode}\\nitem name:{self.__name}\\nprice:{self.__price}\\nquantity:{self.__qty}')\n",
        "      \n",
        "      \n",
        "    "
      ],
      "execution_count": 0,
      "outputs": []
    },
    {
      "metadata": {
        "id": "sEYOEuR8Soim",
        "colab_type": "code",
        "colab": {}
      },
      "cell_type": "code",
      "source": [
        "a=stock()"
      ],
      "execution_count": 0,
      "outputs": []
    },
    {
      "metadata": {
        "id": "BQ6cuolVdPgD",
        "colab_type": "code",
        "colab": {
          "base_uri": "https://localhost:8080/",
          "height": 105
        },
        "outputId": "c2497f91-f4f3-494e-d259-bf70aec8e481"
      },
      "cell_type": "code",
      "source": [
        "a.buy()"
      ],
      "execution_count": 194,
      "outputs": [
        {
          "output_type": "stream",
          "text": [
            "enter item code:234\n",
            "enter name of product:biscuit\n",
            "enter price:25.00\n",
            "enter quantity:3\n",
            "discount: 5\n"
          ],
          "name": "stdout"
        }
      ]
    },
    {
      "metadata": {
        "id": "_wMIXJSFf3Lr",
        "colab_type": "code",
        "colab": {
          "base_uri": "https://localhost:8080/",
          "height": 87
        },
        "outputId": "1d09ee8a-cd46-4be0-eec0-05ef35f94e37"
      },
      "cell_type": "code",
      "source": [
        "a.showall()"
      ],
      "execution_count": 195,
      "outputs": [
        {
          "output_type": "stream",
          "text": [
            "item code234\n",
            "item name:biscuit\n",
            "price:25.0\n",
            "quantity:3\n"
          ],
          "name": "stdout"
        }
      ]
    },
    {
      "metadata": {
        "id": "IgVUQ6mDH-9m",
        "colab_type": "text"
      },
      "cell_type": "markdown",
      "source": [
        "7.Declare a class to represent bank account of 10 customers with the following data members. Name of the depositor, Account number, Type of account, (S for savings and C for current), balance amount.\n",
        "The class also contains member functions to do the following:\n",
        "\n",
        "a)\tTo initialize data members\n",
        "\n",
        "b)\tTo deposit money\n",
        "\n",
        "c)\tTo withdraw money after checking the balance(minimum balance in Rs.100)\n",
        "\n",
        "d)\tTo display the data members.\n",
        "\n"
      ]
    },
    {
      "metadata": {
        "id": "Z91NXoyHgEOC",
        "colab_type": "code",
        "colab": {}
      },
      "cell_type": "code",
      "source": [
        "#7\n",
        "class bank_account():\n",
        "  def intialize(self,name,account_number,type_of_account,balance):\n",
        "    self.name=name\n",
        "    self.account_number=account_number\n",
        "    self.type_of_account=type_of_account\n",
        "    self.balance=int(balance)\n",
        "  def deposit(self,amount):\n",
        "    self.balance=(self.balance+int(amount))\n",
        "    print ('Total amount:',self.balance)\n",
        "  def withdraw(self,wthdrw):\n",
        "    if self.balance>=100:\n",
        "      new_amount=self.balance-int(wthdrw)\n",
        "      print('balance',new_amount)\n",
        "    else:\n",
        "      print('insufficient balance')\n",
        "  def display(self):\n",
        "    print(f'Name:{self.name}\\naccount number:{self.account_number}\\ntype of account:{self.type_of_account}\\nbalance:{self.balance}')\n",
        "             \n",
        "    "
      ],
      "execution_count": 0,
      "outputs": []
    },
    {
      "metadata": {
        "id": "wa3zWA7uicdG",
        "colab_type": "code",
        "colab": {}
      },
      "cell_type": "code",
      "source": [
        "a=bank_account()"
      ],
      "execution_count": 0,
      "outputs": []
    },
    {
      "metadata": {
        "id": "e2wFYKnjj3Ja",
        "colab_type": "code",
        "colab": {}
      },
      "cell_type": "code",
      "source": [
        "a.intialize('anjana',234567,'saving',2500)"
      ],
      "execution_count": 0,
      "outputs": []
    },
    {
      "metadata": {
        "id": "TSBiGS45kNgR",
        "colab_type": "code",
        "colab": {
          "base_uri": "https://localhost:8080/",
          "height": 34
        },
        "outputId": "3396f377-673f-4bff-98ad-8616292b413a"
      },
      "cell_type": "code",
      "source": [
        "a.deposit(3400)"
      ],
      "execution_count": 172,
      "outputs": [
        {
          "output_type": "stream",
          "text": [
            "Total amount: 5900\n"
          ],
          "name": "stdout"
        }
      ]
    },
    {
      "metadata": {
        "id": "FqWkCV-DkSIX",
        "colab_type": "code",
        "colab": {
          "base_uri": "https://localhost:8080/",
          "height": 34
        },
        "outputId": "9b8bab1f-fe8b-48d7-e225-e39b73cd56ec"
      },
      "cell_type": "code",
      "source": [
        "a.withdraw(3000)"
      ],
      "execution_count": 173,
      "outputs": [
        {
          "output_type": "stream",
          "text": [
            "balance 2900\n"
          ],
          "name": "stdout"
        }
      ]
    },
    {
      "metadata": {
        "id": "spsW8icMmAtw",
        "colab_type": "code",
        "colab": {
          "base_uri": "https://localhost:8080/",
          "height": 87
        },
        "outputId": "ae33c038-3962-4204-bca4-e67a6cadfc95"
      },
      "cell_type": "code",
      "source": [
        "a.display()"
      ],
      "execution_count": 174,
      "outputs": [
        {
          "output_type": "stream",
          "text": [
            "Name:anjana\n",
            "account number:234567\n",
            "type of account:saving\n",
            "balance:5900\n"
          ],
          "name": "stdout"
        }
      ]
    },
    {
      "metadata": {
        "id": "SttchUEeIRdO",
        "colab_type": "text"
      },
      "cell_type": "markdown",
      "source": [
        "\n",
        "8.Write a python program to make a simple Calculator that can add, subtract, multiply or divide depending upon the input.\n",
        "Note: Use functions with arguments\n",
        "\n"
      ]
    },
    {
      "metadata": {
        "id": "7EXVkh1tmRHl",
        "colab_type": "code",
        "colab": {
          "base_uri": "https://localhost:8080/",
          "height": 34
        },
        "outputId": "22199463-1e35-4101-c6dd-8255dc64e03f"
      },
      "cell_type": "code",
      "source": [
        "#8 \n",
        "def calculator(a,b,op):\n",
        "  if op == '+':\n",
        "     return a+b\n",
        "  if op == '-':\n",
        "    return a-b\n",
        "  if op == '*':\n",
        "    return a*b\n",
        "  if op == '/':\n",
        "    return a/b\n",
        "a=calculator(45,67,'/')\n",
        "print('The output:',a)  "
      ],
      "execution_count": 141,
      "outputs": [
        {
          "output_type": "stream",
          "text": [
            "The output: 0.6716417910447762\n"
          ],
          "name": "stdout"
        }
      ]
    },
    {
      "metadata": {
        "id": "AM-B_G9xIWBi",
        "colab_type": "text"
      },
      "cell_type": "markdown",
      "source": [
        "9..Define a class TESTMATCH in PYTHON with the following description :\n",
        "\n",
        "Private Members :\n",
        "1. TestCode of type integer \n",
        "2. Description of type string\n",
        "3. NoOfCandidates of type integer.\n",
        "4.CenterReqd (number of centres required) of type integer\n",
        "\n",
        "5.A member function CALCULATECNTR() to calculate and return the number of centres as (NoOfCandidates / 100 + 1)\n",
        "\n",
        "Public Members :\n",
        "1. A function GETDATA() to allow user to enter values for TestCode, Description, NoOfCandidates & call function CALCULATECNTR() to calculate the number of centres. \n",
        "2. A function PUTDATA() to allow user to view the content of all the data members in the following format : \n",
        "\n",
        "\n",
        " * TEST MATCH INFORMATION____________________________\n",
        "  \n",
        "*  Test Match Code      : __________________________\n",
        "*   Description               : __________________________\n",
        "*  \tTotal Candidates      : __________________________\n",
        "*  Centers Required     : __________________________\n",
        "\n",
        "\n",
        "\n"
      ]
    },
    {
      "metadata": {
        "id": "aJ02zJoate-z",
        "colab_type": "code",
        "colab": {}
      },
      "cell_type": "code",
      "source": [
        "#9\n",
        "class testmatch():\n",
        "  def __CALCULATECNTR(self):\n",
        "    number_of_centers= self.__no_of_candidates/100+1\n",
        "    return number_of_centers  \n",
        "  def GETDATA(self):\n",
        "    self.__testcode=int(input(\"enter test code:\"))\n",
        "    self.__description=str(input(\"enter the description:\"))\n",
        "    self.__no_of_candidates=float(input(\"enter number of candidates:\"))\n",
        "    self.__CenterReqd=testmatch.__CALCULATECNTR(self)\n",
        "  def PUTDATA(self):\n",
        "    print(f'TEST MATCH INFORMATION\\n1.Test Match Code:{self.__testcode}\\n2.Description{self.__description}\\n3.Total candidates:{self.__no_of_candidates}\\n4.centers required:{self.__CenterReqd}')\n",
        " "
      ],
      "execution_count": 0,
      "outputs": []
    },
    {
      "metadata": {
        "id": "MMMsAqW0tt6F",
        "colab_type": "code",
        "colab": {}
      },
      "cell_type": "code",
      "source": [
        "d=testmatch()"
      ],
      "execution_count": 0,
      "outputs": []
    },
    {
      "metadata": {
        "id": "faWYhTKnyZYC",
        "colab_type": "code",
        "colab": {
          "base_uri": "https://localhost:8080/",
          "height": 70
        },
        "outputId": "ad97a77d-d946-4c78-9911-286de5562d72"
      },
      "cell_type": "code",
      "source": [
        "d.GETDATA()"
      ],
      "execution_count": 191,
      "outputs": [
        {
          "output_type": "stream",
          "text": [
            "enter test code:234\n",
            "enter the description:cricket match\n",
            "enter number of candidates:3500\n"
          ],
          "name": "stdout"
        }
      ]
    },
    {
      "metadata": {
        "id": "FlGrOQ3NygsU",
        "colab_type": "code",
        "colab": {
          "base_uri": "https://localhost:8080/",
          "height": 105
        },
        "outputId": "3e3d4106-fa6a-4e4d-921a-a6eb889b0acc"
      },
      "cell_type": "code",
      "source": [
        "d.PUTDATA()"
      ],
      "execution_count": 162,
      "outputs": [
        {
          "output_type": "stream",
          "text": [
            "TEST MATCH INFORMATION\n",
            "1.Test Match Code:234\n",
            "2.Descriptioncricket match\n",
            "3.Total candidates:3400.0\n",
            "4.centers required:35.0\n"
          ],
          "name": "stdout"
        }
      ]
    },
    {
      "metadata": {
        "id": "OqmqKpuBLuWw",
        "colab_type": "text"
      },
      "cell_type": "markdown",
      "source": [
        "10. Write a PYTHON program to perform various operations on a string class without using  language supported built-in string functions. The operations on a class are :\n",
        "\n",
        "a)\tRead a string\n",
        "\n",
        "b)\tDisplay the string\n",
        "\n",
        "c)\tReverse the string\n",
        "\n",
        "d)\tCopy the string into an empty string\n",
        "\n",
        "e)\tConcatenate two strings.\n"
      ]
    },
    {
      "metadata": {
        "id": "J_4oAOGc0jau",
        "colab_type": "code",
        "colab": {}
      },
      "cell_type": "code",
      "source": [
        "#10\n",
        "class string():\n",
        "  def read(self):\n",
        "    s=str(input('enter the string:'))\n",
        "    self.str=s\n",
        "  def display(self):\n",
        "    print(self.str)\n",
        "  def reverse(self):\n",
        "    k=self.str[::-1]\n",
        "    print(k)\n",
        "  def copy(self):\n",
        "    self.str1=self.str\n",
        "    print(self.str1)\n",
        "  def conctenate(self,a,b):\n",
        "    return a + b\n",
        " "
      ],
      "execution_count": 0,
      "outputs": []
    }
  ]
}
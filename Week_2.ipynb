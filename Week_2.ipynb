{
  "nbformat": 4,
  "nbformat_minor": 0,
  "metadata": {
    "colab": {
      "name": "Copy of Copy of Week 2 Part 1 Assignment.ipynb",
      "version": "0.3.2",
      "provenance": [],
      "collapsed_sections": []
    },
    "kernelspec": {
      "name": "python3",
      "display_name": "Python 3"
    }
  },
  "cells": [
    {
      "metadata": {
        "id": "p0m9LbIveuis",
        "colab_type": "text"
      },
      "cell_type": "markdown",
      "source": [
        "# Week 2 Part 1 Assignments"
      ]
    },
    {
      "metadata": {
        "id": "eCOgOSARdtsX",
        "colab_type": "text"
      },
      "cell_type": "markdown",
      "source": [
        "1. Understand number and answer the following question.\n",
        "  1. Assign to 10 and 2 on two variables 'a' and 'b' and perform addition, subtraction, multiplication, division and modulo operation. You should properly print answer during each operation."
      ]
    },
    {
      "metadata": {
        "id": "jrg4iBQ-epaY",
        "colab_type": "code",
        "colab": {}
      },
      "cell_type": "code",
      "source": [
        "# 1.1 Type your answer here.\n",
        "a=10\n",
        "b=2"
      ],
      "execution_count": 0,
      "outputs": []
    },
    {
      "metadata": {
        "id": "hpKdsDjNhIbz",
        "colab_type": "code",
        "outputId": "85c7d5d1-4238-488d-8bb3-dad3a50d3598",
        "colab": {
          "base_uri": "https://localhost:8080/",
          "height": 34
        }
      },
      "cell_type": "code",
      "source": [
        "a+b"
      ],
      "execution_count": 0,
      "outputs": [
        {
          "output_type": "execute_result",
          "data": {
            "text/plain": [
              "12"
            ]
          },
          "metadata": {
            "tags": []
          },
          "execution_count": 2
        }
      ]
    },
    {
      "metadata": {
        "id": "r0NmayUwhMzu",
        "colab_type": "code",
        "outputId": "419a79c2-5590-48b0-88e3-df86cd7804c0",
        "colab": {
          "base_uri": "https://localhost:8080/",
          "height": 34
        }
      },
      "cell_type": "code",
      "source": [
        "a-b"
      ],
      "execution_count": 0,
      "outputs": [
        {
          "output_type": "execute_result",
          "data": {
            "text/plain": [
              "8"
            ]
          },
          "metadata": {
            "tags": []
          },
          "execution_count": 3
        }
      ]
    },
    {
      "metadata": {
        "id": "RQ43_VuEhPc-",
        "colab_type": "code",
        "outputId": "e05ddd35-e0c3-4c69-81af-da289882b573",
        "colab": {
          "base_uri": "https://localhost:8080/",
          "height": 34
        }
      },
      "cell_type": "code",
      "source": [
        "a*b"
      ],
      "execution_count": 0,
      "outputs": [
        {
          "output_type": "execute_result",
          "data": {
            "text/plain": [
              "20"
            ]
          },
          "metadata": {
            "tags": []
          },
          "execution_count": 4
        }
      ]
    },
    {
      "metadata": {
        "id": "G1HqGnmQhTaT",
        "colab_type": "code",
        "outputId": "6fe50820-173c-49eb-e551-9f0613fc3edd",
        "colab": {
          "base_uri": "https://localhost:8080/",
          "height": 34
        }
      },
      "cell_type": "code",
      "source": [
        "a/b"
      ],
      "execution_count": 0,
      "outputs": [
        {
          "output_type": "execute_result",
          "data": {
            "text/plain": [
              "5.0"
            ]
          },
          "metadata": {
            "tags": []
          },
          "execution_count": 5
        }
      ]
    },
    {
      "metadata": {
        "id": "HLb4IPCuhTQE",
        "colab_type": "code",
        "outputId": "793cb02c-c865-4480-b946-f88a9f695830",
        "colab": {
          "base_uri": "https://localhost:8080/",
          "height": 34
        }
      },
      "cell_type": "code",
      "source": [
        "a%b"
      ],
      "execution_count": 0,
      "outputs": [
        {
          "output_type": "execute_result",
          "data": {
            "text/plain": [
              "0"
            ]
          },
          "metadata": {
            "tags": []
          },
          "execution_count": 6
        }
      ]
    },
    {
      "metadata": {
        "id": "Pu-nFIeQe08e",
        "colab_type": "text"
      },
      "cell_type": "markdown",
      "source": [
        "2. Write different rules for naming a variable/identifier."
      ]
    },
    {
      "metadata": {
        "id": "EWlJFI2le_Ev",
        "colab_type": "text"
      },
      "cell_type": "markdown",
      "source": [
        "**for variables**\n",
        ".\n",
        "1. Must begin with a letter (a - z, A - B) or underscore (_)\n",
        "\n",
        "2.  Other characters can be letters, numbers or _\n",
        "\n",
        "1.   Case Sensitive.\n",
        "2.   Can be any (reasonable) length.There are some reserved words which you cannot use as a variable name because Python uses them for other things.\n",
        " \n",
        "**for identifiers**\n",
        "\n",
        "\n",
        "1.   The first character of the identifier must be a letter of the alphabet (upper or lowercase) or an underscore ('_').\n",
        "2.   The rest of the identifier name can consist of letters (upper or lowercase), underscores ('_') or digits (0-9).\n",
        "\n"
      ]
    },
    {
      "metadata": {
        "id": "RBzlvoyBfC0a",
        "colab_type": "text"
      },
      "cell_type": "markdown",
      "source": [
        "3.  Understand string and answer the following question.   \n",
        " 1. Assign 2 string on two variable and perform concatenation.\n",
        " 2. Assign a string in a variable and print the reverse of the string.\n",
        " 3. Assign 'lower' to a variable and convert it to upper case.\n",
        " 4. Assign 'school of ai' into a variable and split it into individual words\n",
        " 5. Assign 'school of ai' into a variable and find the starting index  of word 'ai'"
      ]
    },
    {
      "metadata": {
        "id": "NKgITA5IgGf9",
        "colab_type": "code",
        "outputId": "f2151f3e-a05f-4de8-be15-270a5f1a91af",
        "colab": {
          "base_uri": "https://localhost:8080/",
          "height": 34
        }
      },
      "cell_type": "code",
      "source": [
        "# 3.1 Type your answer here\n",
        "a='Hello '\n",
        "b='world'\n",
        "a+b"
      ],
      "execution_count": 0,
      "outputs": [
        {
          "output_type": "execute_result",
          "data": {
            "text/plain": [
              "'Hello world'"
            ]
          },
          "metadata": {
            "tags": []
          },
          "execution_count": 9
        }
      ]
    },
    {
      "metadata": {
        "id": "AiLVTn-jgJLx",
        "colab_type": "code",
        "outputId": "df4899f3-b8a9-4a41-981a-4ca83f12c63c",
        "colab": {
          "base_uri": "https://localhost:8080/",
          "height": 34
        }
      },
      "cell_type": "code",
      "source": [
        "# 3.2 Type your answer here\n",
        "d='python class'\n",
        "c=d[::-1]\n",
        "print (c)"
      ],
      "execution_count": 0,
      "outputs": [
        {
          "output_type": "stream",
          "text": [
            "ssalc nohtyp\n"
          ],
          "name": "stdout"
        }
      ]
    },
    {
      "metadata": {
        "id": "HgCqxoczgJUo",
        "colab_type": "code",
        "outputId": "a30a862a-497d-432c-a6dd-9c30101f0adf",
        "colab": {
          "base_uri": "https://localhost:8080/",
          "height": 34
        }
      },
      "cell_type": "code",
      "source": [
        "# 3.3 Type your answer here\n",
        "s='my name is'\n",
        "s.upper()"
      ],
      "execution_count": 0,
      "outputs": [
        {
          "output_type": "execute_result",
          "data": {
            "text/plain": [
              "'MY NAME IS'"
            ]
          },
          "metadata": {
            "tags": []
          },
          "execution_count": 18
        }
      ]
    },
    {
      "metadata": {
        "id": "xdbj1jW1gv_s",
        "colab_type": "code",
        "outputId": "38891aa9-bfa1-4a6d-be8f-2330e8942e37",
        "colab": {
          "base_uri": "https://localhost:8080/",
          "height": 34
        }
      },
      "cell_type": "code",
      "source": [
        "# 3.4 Type your answer here\n",
        "r='school of ai'\n",
        "r.split()"
      ],
      "execution_count": 0,
      "outputs": [
        {
          "output_type": "execute_result",
          "data": {
            "text/plain": [
              "['school', 'of', 'ai']"
            ]
          },
          "metadata": {
            "tags": []
          },
          "execution_count": 19
        }
      ]
    },
    {
      "metadata": {
        "id": "etzffkuEhgTP",
        "colab_type": "code",
        "outputId": "9e4e5751-445f-4a8d-d6f2-0c33b0db12ed",
        "colab": {
          "base_uri": "https://localhost:8080/",
          "height": 34
        }
      },
      "cell_type": "code",
      "source": [
        "# 3.5 Type your answer here\n",
        "r='school of ai'\n",
        "r.index('ai')"
      ],
      "execution_count": 0,
      "outputs": [
        {
          "output_type": "execute_result",
          "data": {
            "text/plain": [
              "10"
            ]
          },
          "metadata": {
            "tags": []
          },
          "execution_count": 25
        }
      ]
    },
    {
      "metadata": {
        "colab_type": "text",
        "id": "ruHpADeRxOzD"
      },
      "cell_type": "markdown",
      "source": [
        "4.  Understand list and answer the following question.   \n",
        "  1. Create a list with values 10,20,30,40 and find its length and sum\n",
        "  2. Create a list with values 11,22,55. Pop the last element and store it in a variable called 'x'\n",
        "  3. Create a list with values 10,20,40 and insert 30 in index 2.\n",
        "  4. Create a list with values 'a','b','c' and remove 'b' from list\n",
        "  5. Create a list with values 5,'a','b','c',1,5. select values from index 1 to 3 and store it in a variable called 'alpha_list' using slicing."
      ]
    },
    {
      "metadata": {
        "colab_type": "code",
        "id": "uZp1uPLZxOzU",
        "outputId": "39023323-1266-49dc-9f95-33829a9d2c21",
        "colab": {
          "base_uri": "https://localhost:8080/",
          "height": 52
        }
      },
      "cell_type": "code",
      "source": [
        "# 4.1 Type your answer here\n",
        "l=[10,20,30,40]\n",
        "print(len(l))\n",
        "print(sum(l))\n"
      ],
      "execution_count": 0,
      "outputs": [
        {
          "output_type": "stream",
          "text": [
            "4\n",
            "100\n"
          ],
          "name": "stdout"
        }
      ]
    },
    {
      "metadata": {
        "colab_type": "code",
        "id": "-2OQGCp2xOzl",
        "outputId": "f45c0ac4-2fcf-4732-ad6d-4964e157e6da",
        "colab": {
          "base_uri": "https://localhost:8080/",
          "height": 52
        }
      },
      "cell_type": "code",
      "source": [
        "# 4.2 Type your answer here\n",
        "g=[11,22,55]\n",
        "x=g.pop()\n",
        "print(g)\n",
        "print(x)\n"
      ],
      "execution_count": 0,
      "outputs": [
        {
          "output_type": "stream",
          "text": [
            "[11, 22]\n",
            "55\n"
          ],
          "name": "stdout"
        }
      ]
    },
    {
      "metadata": {
        "colab_type": "code",
        "id": "RwXCwmxdxOzy",
        "outputId": "edcd077d-423f-4fe0-c4db-b234f4ae426f",
        "colab": {
          "base_uri": "https://localhost:8080/",
          "height": 34
        }
      },
      "cell_type": "code",
      "source": [
        "# 4.3 Type your answer here\n",
        "f=[10,20,40]\n",
        "f.insert(2,30)\n",
        "print(f)"
      ],
      "execution_count": 0,
      "outputs": [
        {
          "output_type": "stream",
          "text": [
            "[10, 20, 30, 40]\n"
          ],
          "name": "stdout"
        }
      ]
    },
    {
      "metadata": {
        "colab_type": "code",
        "id": "p-7wB7S-xOz6",
        "outputId": "6a351b98-744e-4cfe-f637-959960741616",
        "colab": {
          "base_uri": "https://localhost:8080/",
          "height": 34
        }
      },
      "cell_type": "code",
      "source": [
        "# 4.4 Type your answer here\n",
        "list=['a','b','c']\n",
        "list.remove('b')\n",
        "print(list)"
      ],
      "execution_count": 0,
      "outputs": [
        {
          "output_type": "stream",
          "text": [
            "['a', 'c']\n"
          ],
          "name": "stdout"
        }
      ]
    },
    {
      "metadata": {
        "colab_type": "code",
        "id": "1HelPyBhxO0E",
        "colab": {}
      },
      "cell_type": "code",
      "source": [
        "# 4.5 Type your answer here\n",
        "cell=[5,'a','b','c',1,5]"
      ],
      "execution_count": 0,
      "outputs": []
    },
    {
      "metadata": {
        "colab_type": "code",
        "id": "MJ7Xl3xGzHpb",
        "outputId": "a9a1f803-094d-4171-e309-0985e6e48b60",
        "colab": {
          "base_uri": "https://localhost:8080/",
          "height": 34
        }
      },
      "cell_type": "code",
      "source": [
        "# 4.5 Type your answer here\n",
        "alpha_list=cell[1:3]\n",
        "print(alpha_list)"
      ],
      "execution_count": 0,
      "outputs": [
        {
          "output_type": "stream",
          "text": [
            "['a', 'b']\n"
          ],
          "name": "stdout"
        }
      ]
    },
    {
      "metadata": {
        "colab_type": "text",
        "id": "UOLpFCOZzROl"
      },
      "cell_type": "markdown",
      "source": [
        "5.  Understand dictionary and answer the following question.   \n",
        "  1. Create a dict with key '1' and value 'odd', key '2' and value 'even'\n",
        "  2. Create a dict with key '1' and value 'odd', key '2' and value 'even' .Then replace 'even' of key 2 with 'EVEN'"
      ]
    },
    {
      "metadata": {
        "colab_type": "code",
        "id": "mbIBaszTzRO-",
        "colab": {}
      },
      "cell_type": "code",
      "source": [
        "# 5.1 Type your answer here\n",
        "dict={1:'odd',2:'even'}\n"
      ],
      "execution_count": 0,
      "outputs": []
    },
    {
      "metadata": {
        "colab_type": "code",
        "id": "uxux8opvzRPP",
        "colab": {}
      },
      "cell_type": "code",
      "source": [
        "# 5.2 Type your answer here\n",
        "dict[2]='EVEN'"
      ],
      "execution_count": 0,
      "outputs": []
    },
    {
      "metadata": {
        "id": "uydh6--AxmCH",
        "colab_type": "code",
        "outputId": "d83b3c41-7190-4e82-a398-846b3ef08d5a",
        "colab": {
          "base_uri": "https://localhost:8080/",
          "height": 34
        }
      },
      "cell_type": "code",
      "source": [
        "print(dict)"
      ],
      "execution_count": 0,
      "outputs": [
        {
          "output_type": "stream",
          "text": [
            "{1: 'odd', 2: 'EVEN'}\n"
          ],
          "name": "stdout"
        }
      ]
    },
    {
      "metadata": {
        "id": "FWZUuiPBz8s9",
        "colab_type": "code",
        "colab": {}
      },
      "cell_type": "code",
      "source": [
        ""
      ],
      "execution_count": 0,
      "outputs": []
    }
  ]
}
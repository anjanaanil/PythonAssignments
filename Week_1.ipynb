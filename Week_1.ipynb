{
  "nbformat": 4,
  "nbformat_minor": 0,
  "metadata": {
    "colab": {
      "name": "Copy of Week 1 Part 2 Assignment.ipynb",
      "version": "0.3.2",
      "provenance": [],
      "collapsed_sections": []
    },
    "kernelspec": {
      "name": "python3",
      "display_name": "Python 3"
    }
  },
  "cells": [
    {
      "metadata": {
        "id": "RmYyrldKlBoK",
        "colab_type": "text"
      },
      "cell_type": "markdown",
      "source": [
        "# Assignment of Week 1 - Part 2\n",
        "You will have to fill out all the asnwers and send the assignment back to us.\n",
        "We will be evaluating your assignments."
      ]
    },
    {
      "metadata": {
        "id": "OuI7fZEnmFj_",
        "colab_type": "text"
      },
      "cell_type": "markdown",
      "source": [
        "1. Get familarized with the colab keyboard shortcuts. Go to Tools -> Keyboard Shortcuts to learn keyboard shortcuts. Once you have done that write the keyboard shortcuts (default) for the questions below \n",
        "\n",
        "  1. Convert to code cell\n",
        "  1. Convert to text cell\n",
        "  1. Move selected cells up\n",
        "  1. Run the focused cell\n",
        "  1. Run cell and select next cell\n",
        "  1. Save notebook\n",
        "  1. Delete cell\n",
        "  1. Interrupt execution\n",
        "  1. Insert code cell below\n",
        "  1. Undo last cell action\n",
        "  "
      ]
    },
    {
      "metadata": {
        "id": "xDmg9wWeo95X",
        "colab_type": "code",
        "colab": {}
      },
      "cell_type": "code",
      "source": [
        "# Write your answer here\n",
        "# Do not run this cell, if you run you will get error.\n",
        "# Example \"1.1: CTRL+M Y\n",
        "1.1:ctrl+M Y\n",
        "1.2:ctrl+M M\n",
        "1.3:ctrl+M K\n",
        "1.4:ctrl+enter\n",
        "1.5:shift+enter\n",
        "1.6:ctrl+S \n",
        "1.7:ctrl+M D\n",
        "1.8:ctrl+M I\n",
        "1.9:ctrl+M B \n",
        "1.10:ctrl+shift+Z "
      ],
      "execution_count": 0,
      "outputs": []
    },
    {
      "metadata": {
        "id": "6gx36Hvppd8s",
        "colab_type": "text"
      },
      "cell_type": "markdown",
      "source": [
        "2. Understand what is a variable and solve the questions below.\n",
        "\n",
        "  1. Create a variable called \"name\" and assign the string \"School of AI\"\n",
        "  1. Create two variables called \"length\" and \"breadth\", and assign integer value 5 to both of the variable using a single line."
      ]
    },
    {
      "metadata": {
        "id": "Xz2WJWsgvOqM",
        "colab_type": "code",
        "outputId": "8f03a19c-126c-441c-b5bf-692d519eb1b3",
        "colab": {
          "base_uri": "https://localhost:8080/",
          "height": 34
        }
      },
      "cell_type": "code",
      "source": [
        "# Write answer for the question 2.1\n",
        "name=\"School of AI\"\n",
        "print(name)"
      ],
      "execution_count": 0,
      "outputs": [
        {
          "output_type": "stream",
          "text": [
            "School of AI\n"
          ],
          "name": "stdout"
        }
      ]
    },
    {
      "metadata": {
        "id": "r30eTO-ivVfx",
        "colab_type": "code",
        "outputId": "94e5b381-b681-4325-8b76-ec4e2116a69d",
        "colab": {
          "base_uri": "https://localhost:8080/",
          "height": 34
        }
      },
      "cell_type": "code",
      "source": [
        "# Write answer for the question 2.2\n",
        "length,breadth =5,5\n",
        "breadth\n",
        "\n"
      ],
      "execution_count": 0,
      "outputs": [
        {
          "output_type": "execute_result",
          "data": {
            "text/plain": [
              "5"
            ]
          },
          "metadata": {
            "tags": []
          },
          "execution_count": 9
        }
      ]
    },
    {
      "metadata": {
        "id": "9kQuPi3tvbPO",
        "colab_type": "text"
      },
      "cell_type": "markdown",
      "source": [
        "3. Understand what  is a comment and solve the questions below.\n",
        "  \n",
        "  1. Write 'WELCOME' inside a single line comment\n",
        "  1. Write the following string inside a multi line comment.\n",
        "  \n",
        "           ONE  \n",
        "           TWO   \n",
        "           THREE  \n",
        "           FOUR"
      ]
    },
    {
      "metadata": {
        "id": "PvF3zyMwyOoM",
        "colab_type": "code",
        "colab": {}
      },
      "cell_type": "code",
      "source": [
        "# Write answer for the question 3.1\n",
        "#welcome"
      ],
      "execution_count": 0,
      "outputs": []
    },
    {
      "metadata": {
        "id": "4l7qYy8CyOwz",
        "colab_type": "code",
        "outputId": "e75b3390-9053-4269-fa0c-e5aa3c0ee432",
        "colab": {
          "base_uri": "https://localhost:8080/",
          "height": 34
        }
      },
      "cell_type": "code",
      "source": [
        "# Write answer for the question 3.2\n",
        "\"\"\"\n",
        "one two three four\n",
        "\"\"\""
      ],
      "execution_count": 0,
      "outputs": [
        {
          "output_type": "execute_result",
          "data": {
            "text/plain": [
              "'\\none two three four\\n'"
            ]
          },
          "metadata": {
            "tags": []
          },
          "execution_count": 14
        }
      ]
    },
    {
      "metadata": {
        "id": "eaHzNQ67eQ19",
        "colab_type": "text"
      },
      "cell_type": "markdown",
      "source": [
        "4. Understand what is a expression and solve the question below\n",
        " \n",
        "  1. Create an expression using two variable 'length' and 'breadth' to find area of rectangle (length x breadth) and then assign the expression to a variable 'area'."
      ]
    },
    {
      "metadata": {
        "id": "WBmEVJiteQYb",
        "colab_type": "code",
        "outputId": "5b510480-6e46-4936-d792-9366bd642b9b",
        "colab": {
          "base_uri": "https://localhost:8080/",
          "height": 34
        }
      },
      "cell_type": "code",
      "source": [
        "# Write answer for the question 4.1\n",
        "length=8\n",
        "breadth=6\n",
        "area=length*breadth\n",
        "print(area)\n"
      ],
      "execution_count": 0,
      "outputs": [
        {
          "output_type": "stream",
          "text": [
            "48\n"
          ],
          "name": "stdout"
        }
      ]
    },
    {
      "metadata": {
        "id": "r1eB0OmigXCZ",
        "colab_type": "text"
      },
      "cell_type": "markdown",
      "source": [
        "5. Understand how to delete a variable from memory and solve the question below.\n",
        "\n",
        "  1. Create a vaiable called 'name' and assign it your name. Then in the next line delete the variable from the  memory.\n"
      ]
    },
    {
      "metadata": {
        "id": "nADYxWaFhclx",
        "colab_type": "code",
        "colab": {}
      },
      "cell_type": "code",
      "source": [
        "# Write answer for the question 5.1\n",
        "name=\"anjana\"\n",
        "del(name)\n"
      ],
      "execution_count": 0,
      "outputs": []
    },
    {
      "metadata": {
        "id": "SURArtvqhzVK",
        "colab_type": "text"
      },
      "cell_type": "markdown",
      "source": [
        "6. Which will you use to enclose and store the string given below.   \n",
        "        \n",
        "     Hai !! It's Python Time\n",
        "     \n",
        "     Options :\n",
        "     \n",
        "     A) Single quotes (' ')\n",
        "     B) Double qoutes(\" \")"
      ]
    },
    {
      "metadata": {
        "id": "6EVvHbaJimg1",
        "colab_type": "code",
        "outputId": "fb38d729-605d-441c-9469-3e184e27a340",
        "colab": {
          "base_uri": "https://localhost:8080/",
          "height": 34
        }
      },
      "cell_type": "code",
      "source": [
        "# Write option for the question 6.1\n",
        "#B\n",
        "print(\"Hai !! It's Python Time\")"
      ],
      "execution_count": 0,
      "outputs": [
        {
          "output_type": "stream",
          "text": [
            "Hai !! It's Python Time\n"
          ],
          "name": "stdout"
        }
      ]
    }
  ]
}